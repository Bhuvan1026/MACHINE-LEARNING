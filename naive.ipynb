{
 "cells": [
  {
   "cell_type": "code",
   "execution_count": 99,
   "id": "63771e64",
   "metadata": {},
   "outputs": [
    {
     "data": {
      "text/html": [
       "<div>\n",
       "<style scoped>\n",
       "    .dataframe tbody tr th:only-of-type {\n",
       "        vertical-align: middle;\n",
       "    }\n",
       "\n",
       "    .dataframe tbody tr th {\n",
       "        vertical-align: top;\n",
       "    }\n",
       "\n",
       "    .dataframe thead th {\n",
       "        text-align: right;\n",
       "    }\n",
       "</style>\n",
       "<table border=\"1\" class=\"dataframe\">\n",
       "  <thead>\n",
       "    <tr style=\"text-align: right;\">\n",
       "      <th></th>\n",
       "      <th>day</th>\n",
       "      <th>outlook</th>\n",
       "      <th>temp</th>\n",
       "      <th>humidity</th>\n",
       "      <th>wind</th>\n",
       "      <th>play</th>\n",
       "    </tr>\n",
       "  </thead>\n",
       "  <tbody>\n",
       "    <tr>\n",
       "      <th>0</th>\n",
       "      <td>D1</td>\n",
       "      <td>Sunny</td>\n",
       "      <td>Hot</td>\n",
       "      <td>High</td>\n",
       "      <td>Weak</td>\n",
       "      <td>No</td>\n",
       "    </tr>\n",
       "    <tr>\n",
       "      <th>1</th>\n",
       "      <td>D2</td>\n",
       "      <td>Sunny</td>\n",
       "      <td>Hot</td>\n",
       "      <td>High</td>\n",
       "      <td>Strong</td>\n",
       "      <td>No</td>\n",
       "    </tr>\n",
       "    <tr>\n",
       "      <th>2</th>\n",
       "      <td>D3</td>\n",
       "      <td>Overcast</td>\n",
       "      <td>Hot</td>\n",
       "      <td>High</td>\n",
       "      <td>Weak</td>\n",
       "      <td>Yes</td>\n",
       "    </tr>\n",
       "    <tr>\n",
       "      <th>3</th>\n",
       "      <td>D4</td>\n",
       "      <td>Rain</td>\n",
       "      <td>Mild</td>\n",
       "      <td>High</td>\n",
       "      <td>Weak</td>\n",
       "      <td>Yes</td>\n",
       "    </tr>\n",
       "    <tr>\n",
       "      <th>4</th>\n",
       "      <td>D5</td>\n",
       "      <td>Rain</td>\n",
       "      <td>Cool</td>\n",
       "      <td>Normal</td>\n",
       "      <td>Weak</td>\n",
       "      <td>Yes</td>\n",
       "    </tr>\n",
       "    <tr>\n",
       "      <th>5</th>\n",
       "      <td>D6</td>\n",
       "      <td>Rain</td>\n",
       "      <td>Cool</td>\n",
       "      <td>Normal</td>\n",
       "      <td>Strong</td>\n",
       "      <td>No</td>\n",
       "    </tr>\n",
       "    <tr>\n",
       "      <th>6</th>\n",
       "      <td>D7</td>\n",
       "      <td>Overcast</td>\n",
       "      <td>Cool</td>\n",
       "      <td>Normal</td>\n",
       "      <td>Strong</td>\n",
       "      <td>Yes</td>\n",
       "    </tr>\n",
       "    <tr>\n",
       "      <th>7</th>\n",
       "      <td>D8</td>\n",
       "      <td>Sunny</td>\n",
       "      <td>Mild</td>\n",
       "      <td>High</td>\n",
       "      <td>Weak</td>\n",
       "      <td>No</td>\n",
       "    </tr>\n",
       "    <tr>\n",
       "      <th>8</th>\n",
       "      <td>D9</td>\n",
       "      <td>Sunny</td>\n",
       "      <td>Cool</td>\n",
       "      <td>Normal</td>\n",
       "      <td>Weak</td>\n",
       "      <td>Yes</td>\n",
       "    </tr>\n",
       "    <tr>\n",
       "      <th>9</th>\n",
       "      <td>D10</td>\n",
       "      <td>Rain</td>\n",
       "      <td>Mild</td>\n",
       "      <td>Normal</td>\n",
       "      <td>Weak</td>\n",
       "      <td>Yes</td>\n",
       "    </tr>\n",
       "    <tr>\n",
       "      <th>10</th>\n",
       "      <td>D11</td>\n",
       "      <td>Sunny</td>\n",
       "      <td>Mild</td>\n",
       "      <td>Normal</td>\n",
       "      <td>Strong</td>\n",
       "      <td>Yes</td>\n",
       "    </tr>\n",
       "    <tr>\n",
       "      <th>11</th>\n",
       "      <td>D12</td>\n",
       "      <td>Overcast</td>\n",
       "      <td>Mild</td>\n",
       "      <td>High</td>\n",
       "      <td>Strong</td>\n",
       "      <td>Yes</td>\n",
       "    </tr>\n",
       "    <tr>\n",
       "      <th>12</th>\n",
       "      <td>D13</td>\n",
       "      <td>Overcast</td>\n",
       "      <td>Hot</td>\n",
       "      <td>Normal</td>\n",
       "      <td>Weak</td>\n",
       "      <td>Yes</td>\n",
       "    </tr>\n",
       "    <tr>\n",
       "      <th>13</th>\n",
       "      <td>D14</td>\n",
       "      <td>Rain</td>\n",
       "      <td>Mild</td>\n",
       "      <td>High</td>\n",
       "      <td>Strong</td>\n",
       "      <td>No</td>\n",
       "    </tr>\n",
       "  </tbody>\n",
       "</table>\n",
       "</div>"
      ],
      "text/plain": [
       "    day   outlook  temp humidity    wind play\n",
       "0    D1     Sunny   Hot     High    Weak   No\n",
       "1    D2     Sunny   Hot     High  Strong   No\n",
       "2    D3  Overcast   Hot     High    Weak  Yes\n",
       "3    D4      Rain  Mild     High    Weak  Yes\n",
       "4    D5      Rain  Cool   Normal    Weak  Yes\n",
       "5    D6      Rain  Cool   Normal  Strong   No\n",
       "6    D7  Overcast  Cool   Normal  Strong  Yes\n",
       "7    D8     Sunny  Mild     High    Weak   No\n",
       "8    D9     Sunny  Cool   Normal    Weak  Yes\n",
       "9   D10      Rain  Mild   Normal    Weak  Yes\n",
       "10  D11     Sunny  Mild   Normal  Strong  Yes\n",
       "11  D12  Overcast  Mild     High  Strong  Yes\n",
       "12  D13  Overcast   Hot   Normal    Weak  Yes\n",
       "13  D14      Rain  Mild     High  Strong   No"
      ]
     },
     "execution_count": 99,
     "metadata": {},
     "output_type": "execute_result"
    }
   ],
   "source": [
    "import pandas as pd\n",
    "data=pd.read_csv(\"play_tennis (2).csv\")\n",
    "data"
   ]
  },
  {
   "cell_type": "code",
   "execution_count": 9,
   "id": "f250d518",
   "metadata": {},
   "outputs": [
    {
     "data": {
      "text/plain": [
       "(9, 5)"
      ]
     },
     "execution_count": 9,
     "metadata": {},
     "output_type": "execute_result"
    }
   ],
   "source": [
    "yes=data.value_counts(data['play'])[0]\n",
    "no=data.value_counts(data['play'])[1]\n",
    "yes,no"
   ]
  },
  {
   "cell_type": "code",
   "execution_count": 74,
   "id": "b45992d0",
   "metadata": {
    "scrolled": false
   },
   "outputs": [
    {
     "data": {
      "text/plain": [
       "9"
      ]
     },
     "execution_count": 74,
     "metadata": {},
     "output_type": "execute_result"
    }
   ],
   "source": [
    "gp1=data.groupby('play').get_group('Yes')\n",
    "gp2=data.groupby('play').get_group('No')\n",
    "len(gp1)"
   ]
  },
  {
   "cell_type": "code",
   "execution_count": 177,
   "id": "c17db935",
   "metadata": {},
   "outputs": [],
   "source": [
    "sunny_yes=data[data['outlook']=='Sunny']\n",
    "s_y=sunny_yes[sunny_yes['play']=='Yes']['play'].count()\n",
    "\n",
    "sunny_no=data[data['outlook']=='Sunny']\n",
    "s_n=sunny_no[sunny_yes['play']=='No']['play'].count()\n",
    "\n",
    "rain_yes=data[data['outlook']=='Rain']\n",
    "r_y=rain_yes[rain_yes['play']=='Yes']['play'].count()\n",
    "\n",
    "rain_no=data[data['outlook']=='Rain']\n",
    "r_n=rain_no[rain_no['play']=='No']['play'].count()\n",
    "\n",
    "over_yes=data[data['outlook']=='Overcast']\n",
    "o_y=over_yes[over_yes['play']=='Yes']['play'].count()\n",
    "\n",
    "over_no=data[data['outlook']=='Overcast']\n",
    "o_n=over_no[over_no['play']=='No']['play'].count()\n"
   ]
  },
  {
   "cell_type": "code",
   "execution_count": 207,
   "id": "8580ee84",
   "metadata": {},
   "outputs": [],
   "source": [
    "hot_yes=data[data['temp']=='hot']\n",
    "hot_y=hot_yes[hot_yes['play']=='Yes']['play'].count()\n",
    "\n",
    "hot_no=data[data['temp']=='hot']\n",
    "hot_n=hot_no[hot_yes['play']=='No']['play'].count()\n",
    "\n",
    "\n",
    "mild_yes=data[data['temp']=='mild']\n",
    "mild_y=mild_yes[mild_yes['play']=='Yes']['play'].count()\n",
    "\n",
    "mild_no=data[data['temp']=='mild']\n",
    "mild_n=mild_no[mild_no['play']=='No']['play'].count()\n",
    "\n",
    "\n",
    "cool_yes=data[data['temp']=='cool']\n",
    "cool_y=cool_yes[cool_yes['play']=='Yes']['play'].count()\n",
    "\n",
    "\n",
    "cool_no=data[data['temp']=='cool']\n",
    "cool_n=cool_no[cool_no['play']=='No']['play'].count()\n",
    "\n"
   ]
  },
  {
   "cell_type": "code",
   "execution_count": 215,
   "id": "0ac1addc",
   "metadata": {},
   "outputs": [],
   "source": [
    "high_yes=data[data['humidity']=='high']\n",
    "high_y=high_yes[high_yes['play']=='Yes']['play'].count()\n",
    "\n",
    "high_no=data[data['humidity']=='high']\n",
    "high_n=high_no[high_no['play']=='No']['play'].count()\n",
    "\n",
    "nor_yes=data[data['humidity']=='normal']\n",
    "nor_y=nor_yes[nor_yes['play']=='Yes']['play'].count()\n",
    "\n",
    "nor_no=data[data['humidity']=='normal']\n",
    "nor_n=nor_no[nor_no['play']=='No']['play'].count()\n",
    "\n"
   ]
  },
  {
   "cell_type": "code",
   "execution_count": 210,
   "id": "ad807742",
   "metadata": {},
   "outputs": [],
   "source": [
    "str_yes=data[data['wind']=='Strong']\n",
    "str_y=str_yes[str_yes['play']=='Yes']['play'].count()\n",
    "\n",
    "str_no=data[data['wind']=='Strong']\n",
    "str_n=str_no[str_no['play']=='No']['play'].count()\n",
    "\n",
    "weak_yes=data[data['wind']=='Weak']\n",
    "weak_y=weak_yes[weak_yes['play']=='Yes']['play'].count()\n",
    "\n",
    "weak_no=data[data['wind']=='Weak']\n",
    "weak_n=weak_no[weak_no['play']=='No']['play'].count()"
   ]
  },
  {
   "cell_type": "code",
   "execution_count": 212,
   "id": "d5fc17ea",
   "metadata": {},
   "outputs": [],
   "source": [
    "p_s_y=s_y/yes\n",
    "p_s_n=s_n/no\n",
    "p_r_y=r_y/yes\n",
    "p_r_n=r_n/no\n",
    "p_o_y=o_y/yes\n",
    "p_o_n=o_n/no\n"
   ]
  },
  {
   "cell_type": "code",
   "execution_count": 214,
   "id": "dcba8207",
   "metadata": {},
   "outputs": [],
   "source": [
    "p_h_y=hot_y/yes\n",
    "p_h_n=hot_n/no\n",
    "p_m_y=mild_y/yes\n",
    "p_m_n=mild_n/no\n",
    "p_c_y=cool_y/yes\n",
    "p_c_n=cool_n/no\n"
   ]
  },
  {
   "cell_type": "code",
   "execution_count": 217,
   "id": "1f7e584e",
   "metadata": {},
   "outputs": [],
   "source": [
    "p_high_y=high_y/yes\n",
    "p_high_n=high_n/no\n",
    "p_norm_y=nor_y/yes\n",
    "p_norm_n=nor_n/no"
   ]
  },
  {
   "cell_type": "code",
   "execution_count": 227,
   "id": "172911cb",
   "metadata": {},
   "outputs": [],
   "source": [
    "p_str_y=str_y/yes\n",
    "p_str_n=str_n/no\n",
    "p_weak_y=weak_y/yes\n",
    "p_weak_n=weak_n/no\n"
   ]
  },
  {
   "cell_type": "code",
   "execution_count": 234,
   "id": "54abb5ef",
   "metadata": {},
   "outputs": [],
   "source": [
    "from sklearn.model_selection import train_test_split\n",
    "#defining arguments for splitting\n",
    "x=data.drop('play',axis=1)\n",
    "y=data['play']\n"
   ]
  },
  {
   "cell_type": "code",
   "execution_count": 235,
   "id": "6e94767b",
   "metadata": {},
   "outputs": [
    {
     "data": {
      "text/html": [
       "<div>\n",
       "<style scoped>\n",
       "    .dataframe tbody tr th:only-of-type {\n",
       "        vertical-align: middle;\n",
       "    }\n",
       "\n",
       "    .dataframe tbody tr th {\n",
       "        vertical-align: top;\n",
       "    }\n",
       "\n",
       "    .dataframe thead th {\n",
       "        text-align: right;\n",
       "    }\n",
       "</style>\n",
       "<table border=\"1\" class=\"dataframe\">\n",
       "  <thead>\n",
       "    <tr style=\"text-align: right;\">\n",
       "      <th></th>\n",
       "      <th>day</th>\n",
       "      <th>outlook</th>\n",
       "      <th>temp</th>\n",
       "      <th>humidity</th>\n",
       "      <th>wind</th>\n",
       "    </tr>\n",
       "  </thead>\n",
       "  <tbody>\n",
       "    <tr>\n",
       "      <th>8</th>\n",
       "      <td>D9</td>\n",
       "      <td>Sunny</td>\n",
       "      <td>Cool</td>\n",
       "      <td>Normal</td>\n",
       "      <td>Weak</td>\n",
       "    </tr>\n",
       "    <tr>\n",
       "      <th>6</th>\n",
       "      <td>D7</td>\n",
       "      <td>Overcast</td>\n",
       "      <td>Cool</td>\n",
       "      <td>Normal</td>\n",
       "      <td>Strong</td>\n",
       "    </tr>\n",
       "    <tr>\n",
       "      <th>13</th>\n",
       "      <td>D14</td>\n",
       "      <td>Rain</td>\n",
       "      <td>Mild</td>\n",
       "      <td>High</td>\n",
       "      <td>Strong</td>\n",
       "    </tr>\n",
       "  </tbody>\n",
       "</table>\n",
       "</div>"
      ],
      "text/plain": [
       "    day   outlook  temp humidity    wind\n",
       "8    D9     Sunny  Cool   Normal    Weak\n",
       "6    D7  Overcast  Cool   Normal  Strong\n",
       "13  D14      Rain  Mild     High  Strong"
      ]
     },
     "execution_count": 235,
     "metadata": {},
     "output_type": "execute_result"
    }
   ],
   "source": [
    "x_train,x_test,y_train,y_test=train_test_split(x,y,test_size=0.2)\n",
    "x_test"
   ]
  }
 ],
 "metadata": {
  "kernelspec": {
   "display_name": "Python 3 (ipykernel)",
   "language": "python",
   "name": "python3"
  },
  "language_info": {
   "codemirror_mode": {
    "name": "ipython",
    "version": 3
   },
   "file_extension": ".py",
   "mimetype": "text/x-python",
   "name": "python",
   "nbconvert_exporter": "python",
   "pygments_lexer": "ipython3",
   "version": "3.11.3"
  }
 },
 "nbformat": 4,
 "nbformat_minor": 5
}
