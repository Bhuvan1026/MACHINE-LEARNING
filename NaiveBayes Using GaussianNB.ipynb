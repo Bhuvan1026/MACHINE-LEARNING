{
 "cells": [
  {
   "cell_type": "code",
   "execution_count": 1,
   "id": "f2a8cc84",
   "metadata": {},
   "outputs": [],
   "source": [
    "from sklearn import metrics\n",
    "from sklearn.model_selection import train_test_split\n",
    "from sklearn.naive_bayes import GaussianNB\n",
    "from sklearn.preprocessing import LabelEncoder\n",
    "import pandas as pd"
   ]
  },
  {
   "cell_type": "code",
   "execution_count": 2,
   "id": "7db19113",
   "metadata": {},
   "outputs": [
    {
     "data": {
      "text/plain": [
       "day         object\n",
       "outlook     object\n",
       "temp        object\n",
       "humidity    object\n",
       "wind        object\n",
       "play        object\n",
       "dtype: object"
      ]
     },
     "execution_count": 2,
     "metadata": {},
     "output_type": "execute_result"
    }
   ],
   "source": [
    "dp = pd.read_excel('play_tennis.xlsx')\n",
    "dp.dtypes"
   ]
  },
  {
   "cell_type": "code",
   "execution_count": 3,
   "id": "8cd83c6e",
   "metadata": {},
   "outputs": [
    {
     "name": "stdout",
     "output_type": "stream",
     "text": [
      "Accuracy is : 0.6666666666666666\n"
     ]
    }
   ],
   "source": [
    "le = LabelEncoder()\n",
    "le.fit(['outlook','temp','humidity','wind','play'])\n",
    "for i in dp.columns:\n",
    "    dp[i] = le.fit_transform(dp[i])\n",
    "imp_data = dp.iloc[:,1:5:1]\n",
    "opt = dp.iloc[:,-1]\n",
    "x_train,x_test,y_train,y_test = train_test_split(imp_data,opt,test_size=0.2,random_state=5)\n",
    "clf = GaussianNB()\n",
    "clf = clf.fit(x_train,y_train)\n",
    "pred = clf.predict(x_test)\n",
    "print('Accuracy is :',metrics.accuracy_score(y_test,pred))"
   ]
  },
  {
   "cell_type": "code",
   "execution_count": null,
   "id": "4ea5168f",
   "metadata": {},
   "outputs": [],
   "source": []
  }
 ],
 "metadata": {
  "kernelspec": {
   "display_name": "Python 3 (ipykernel)",
   "language": "python",
   "name": "python3"
  },
  "language_info": {
   "codemirror_mode": {
    "name": "ipython",
    "version": 3
   },
   "file_extension": ".py",
   "mimetype": "text/x-python",
   "name": "python",
   "nbconvert_exporter": "python",
   "pygments_lexer": "ipython3",
   "version": "3.11.3"
  }
 },
 "nbformat": 4,
 "nbformat_minor": 5
}
